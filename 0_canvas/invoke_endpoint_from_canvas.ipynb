{
 "cells": [
  {
   "cell_type": "markdown",
   "id": "2bbde90e-9d5d-4052-b1e5-332ec43683a4",
   "metadata": {},
   "source": [
    "## Testing the endpoint\n",
    "You can copy the deployment name and use it with the SageMaker Python SDK or with Boto3, or copy the deployment URL and use it with HTTPS requests, for example with Postman. Remember that, in both cases, you will have to provide valid AWS credentials to be able to query the endpoint."
   ]
  },
  {
   "cell_type": "code",
   "execution_count": 1,
   "id": "5685ab2f-dfc2-4738-80dc-0031464edaa1",
   "metadata": {},
   "outputs": [
    {
     "name": "stdout",
     "output_type": "stream",
     "text": [
      "sagemaker.config INFO - Not applying SDK defaults from location: /etc/xdg/sagemaker/config.yaml\n",
      "sagemaker.config INFO - Not applying SDK defaults from location: /home/sagemaker-user/.config/sagemaker/config.yaml\n"
     ]
    },
    {
     "data": {
      "text/plain": [
       "[['False.',\n",
       "  '0.9988853931427002',\n",
       "  '[0.9988853931427002, 0.0011146320030093193]',\n",
       "  \"['False.', 'True.']\"]]"
      ]
     },
     "execution_count": 1,
     "metadata": {},
     "output_type": "execute_result"
    }
   ],
   "source": [
    "import sagemaker\n",
    "\n",
    "# Configuration\n",
    "endpoint_name = \"<PUT YOUR DEPLOYMENT NAME HERE>\"#\"canvas-new-deployment-02-06-2024-9-16-AM\"\n",
    "my_input = 'MO,176,777,913-2699,no,yes,400,1.639329295774005,3,3.678888958431078,3.0296212421701054,1,3.419607317320714,3.1829204913988565,150,3.701859799002945,4.4130370771175285,6,2.728670064271372,7'\n",
    "\n",
    "# SageMaker configuration setup\n",
    "session = sagemaker.session.Session()\n",
    "serializer = sagemaker.serializers.CSVSerializer()\n",
    "deserializer = sagemaker.deserializers.CSVDeserializer()\n",
    "\n",
    "# Connect to the endpoint and query\n",
    "predictor = sagemaker.predictor.Predictor(\n",
    "    endpoint_name=endpoint_name,\n",
    "    sagemaker_session=session,\n",
    "    serializer=serializer,\n",
    "    deserializer=deserializer\n",
    ")\n",
    "predictor.predict(my_input)"
   ]
  }
 ],
 "metadata": {
  "kernelspec": {
   "display_name": "Python 3 (ipykernel)",
   "language": "python",
   "name": "python3"
  },
  "language_info": {
   "codemirror_mode": {
    "name": "ipython",
    "version": 3
   },
   "file_extension": ".py",
   "mimetype": "text/x-python",
   "name": "python",
   "nbconvert_exporter": "python",
   "pygments_lexer": "ipython3",
   "version": "3.10.13"
  }
 },
 "nbformat": 4,
 "nbformat_minor": 5
}
